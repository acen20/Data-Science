{
 "cells": [
  {
   "cell_type": "code",
   "execution_count": 1,
   "id": "1054def5",
   "metadata": {
    "execution": {
     "iopub.execute_input": "2021-07-15T19:28:33.904804Z",
     "iopub.status.busy": "2021-07-15T19:28:33.904027Z",
     "iopub.status.idle": "2021-07-15T19:28:41.073710Z",
     "shell.execute_reply": "2021-07-15T19:28:41.072870Z",
     "shell.execute_reply.started": "2021-07-15T19:25:40.517411Z"
    },
    "papermill": {
     "duration": 7.197894,
     "end_time": "2021-07-15T19:28:41.073878",
     "exception": false,
     "start_time": "2021-07-15T19:28:33.875984",
     "status": "completed"
    },
    "tags": []
   },
   "outputs": [],
   "source": [
    "from keras import layers\n",
    "from keras.datasets import mnist\n",
    "import numpy as np\n",
    "import matplotlib.pyplot as plt\n",
    "from sklearn.preprocessing import LabelEncoder\n",
    "from keras.utils import to_categorical\n",
    "import keras\n",
    "\n",
    "# This is the size of our encoded representations\n",
    "encoding_dim = 32  # 32 floats -> compression of factor 24.5, assuming the input is 784 floats\n",
    "\n",
    "# This is our input image\n",
    "input_img = keras.Input(shape=(784,))\n",
    "# \"encoded\" is the encoded representation of the input\n",
    "encoded = layers.Dense(encoding_dim, activation='relu')(input_img)\n",
    "# \"decoded\" is the lossy reconstruction of the input\n",
    "decoded = layers.Dense(784, activation='sigmoid')(encoded)\n",
    "\n",
    "# This model maps an input to its reconstruction\n",
    "autoencoder = keras.Model(input_img, decoded)"
   ]
  },
  {
   "cell_type": "code",
   "execution_count": 2,
   "id": "1758c201",
   "metadata": {
    "execution": {
     "iopub.execute_input": "2021-07-15T19:28:41.105173Z",
     "iopub.status.busy": "2021-07-15T19:28:41.104070Z",
     "iopub.status.idle": "2021-07-15T19:28:41.107413Z",
     "shell.execute_reply": "2021-07-15T19:28:41.106839Z",
     "shell.execute_reply.started": "2021-07-15T19:25:47.718050Z"
    },
    "papermill": {
     "duration": 0.02206,
     "end_time": "2021-07-15T19:28:41.107571",
     "exception": false,
     "start_time": "2021-07-15T19:28:41.085511",
     "status": "completed"
    },
    "tags": []
   },
   "outputs": [],
   "source": [
    "# This model maps an input to its encoded representation\n",
    "encoder = keras.Model(input_img, encoded)"
   ]
  },
  {
   "cell_type": "code",
   "execution_count": 3,
   "id": "bc83ffe0",
   "metadata": {
    "execution": {
     "iopub.execute_input": "2021-07-15T19:28:41.139255Z",
     "iopub.status.busy": "2021-07-15T19:28:41.135807Z",
     "iopub.status.idle": "2021-07-15T19:28:41.149003Z",
     "shell.execute_reply": "2021-07-15T19:28:41.148389Z",
     "shell.execute_reply.started": "2021-07-15T19:25:47.727744Z"
    },
    "papermill": {
     "duration": 0.03074,
     "end_time": "2021-07-15T19:28:41.149185",
     "exception": false,
     "start_time": "2021-07-15T19:28:41.118445",
     "status": "completed"
    },
    "tags": []
   },
   "outputs": [],
   "source": [
    "# This is our encoded (32-dimensional) input\n",
    "encoded_input = keras.Input(shape=(encoding_dim,))\n",
    "# Retrieve the last layer of the autoencoder model\n",
    "decoder_layer = autoencoder.layers[-1]\n",
    "# Create the decoder model\n",
    "decoder = keras.Model(encoded_input, decoder_layer(encoded_input))"
   ]
  },
  {
   "cell_type": "code",
   "execution_count": 4,
   "id": "ce10a583",
   "metadata": {
    "execution": {
     "iopub.execute_input": "2021-07-15T19:28:41.185476Z",
     "iopub.status.busy": "2021-07-15T19:28:41.181714Z",
     "iopub.status.idle": "2021-07-15T19:28:41.194151Z",
     "shell.execute_reply": "2021-07-15T19:28:41.194832Z",
     "shell.execute_reply.started": "2021-07-15T19:25:47.751206Z"
    },
    "papermill": {
     "duration": 0.034724,
     "end_time": "2021-07-15T19:28:41.195010",
     "exception": false,
     "start_time": "2021-07-15T19:28:41.160286",
     "status": "completed"
    },
    "tags": []
   },
   "outputs": [],
   "source": [
    "autoencoder.compile(optimizer='adam', loss='binary_crossentropy')"
   ]
  },
  {
   "cell_type": "code",
   "execution_count": 5,
   "id": "0324e3a8",
   "metadata": {
    "execution": {
     "iopub.execute_input": "2021-07-15T19:28:41.231474Z",
     "iopub.status.busy": "2021-07-15T19:28:41.223908Z",
     "iopub.status.idle": "2021-07-15T19:28:42.031839Z",
     "shell.execute_reply": "2021-07-15T19:28:42.031094Z",
     "shell.execute_reply.started": "2021-07-15T19:25:47.770511Z"
    },
    "papermill": {
     "duration": 0.826117,
     "end_time": "2021-07-15T19:28:42.031989",
     "exception": false,
     "start_time": "2021-07-15T19:28:41.205872",
     "status": "completed"
    },
    "tags": []
   },
   "outputs": [
    {
     "name": "stdout",
     "output_type": "stream",
     "text": [
      "Downloading data from https://storage.googleapis.com/tensorflow/tf-keras-datasets/mnist.npz\n",
      "11493376/11490434 [==============================] - 0s 0us/step\n"
     ]
    }
   ],
   "source": [
    "(x_train, train_y), (x_test, test_y) = mnist.load_data()"
   ]
  },
  {
   "cell_type": "code",
   "execution_count": 6,
   "id": "e5425116",
   "metadata": {
    "execution": {
     "iopub.execute_input": "2021-07-15T19:28:42.063119Z",
     "iopub.status.busy": "2021-07-15T19:28:42.062401Z",
     "iopub.status.idle": "2021-07-15T19:28:42.171441Z",
     "shell.execute_reply": "2021-07-15T19:28:42.170866Z",
     "shell.execute_reply.started": "2021-07-15T19:25:48.735567Z"
    },
    "papermill": {
     "duration": 0.127024,
     "end_time": "2021-07-15T19:28:42.171611",
     "exception": false,
     "start_time": "2021-07-15T19:28:42.044587",
     "status": "completed"
    },
    "tags": []
   },
   "outputs": [
    {
     "name": "stdout",
     "output_type": "stream",
     "text": [
      "(60000, 784)\n",
      "(10000, 784)\n"
     ]
    }
   ],
   "source": [
    "x_train = x_train.astype('float32') / 255.\n",
    "x_test = x_test.astype('float32') / 255.\n",
    "x_train = x_train.reshape((len(x_train), np.prod(x_train.shape[1:])))\n",
    "x_test = x_test.reshape((len(x_test), np.prod(x_test.shape[1:])))\n",
    "print(x_train.shape)\n",
    "print(x_test.shape)"
   ]
  },
  {
   "cell_type": "code",
   "execution_count": 7,
   "id": "e77a7ff4",
   "metadata": {
    "execution": {
     "iopub.execute_input": "2021-07-15T19:28:42.202483Z",
     "iopub.status.busy": "2021-07-15T19:28:42.201545Z",
     "iopub.status.idle": "2021-07-15T19:29:02.050994Z",
     "shell.execute_reply": "2021-07-15T19:29:02.050440Z",
     "shell.execute_reply.started": "2021-07-15T19:25:48.825576Z"
    },
    "papermill": {
     "duration": 19.866894,
     "end_time": "2021-07-15T19:29:02.051165",
     "exception": false,
     "start_time": "2021-07-15T19:28:42.184271",
     "status": "completed"
    },
    "tags": []
   },
   "outputs": [
    {
     "name": "stdout",
     "output_type": "stream",
     "text": [
      "Epoch 1/10\n",
      "235/235 [==============================] - 3s 11ms/step - loss: 0.3866 - val_loss: 0.1860\n",
      "Epoch 2/10\n",
      "235/235 [==============================] - 2s 8ms/step - loss: 0.1781 - val_loss: 0.1546\n",
      "Epoch 3/10\n",
      "235/235 [==============================] - 2s 8ms/step - loss: 0.1500 - val_loss: 0.1326\n",
      "Epoch 4/10\n",
      "235/235 [==============================] - 2s 8ms/step - loss: 0.1304 - val_loss: 0.1196\n",
      "Epoch 5/10\n",
      "235/235 [==============================] - 2s 8ms/step - loss: 0.1184 - val_loss: 0.1108\n",
      "Epoch 6/10\n",
      "235/235 [==============================] - 2s 8ms/step - loss: 0.1108 - val_loss: 0.1047\n",
      "Epoch 7/10\n",
      "235/235 [==============================] - 2s 8ms/step - loss: 0.1049 - val_loss: 0.1008\n",
      "Epoch 8/10\n",
      "235/235 [==============================] - 2s 8ms/step - loss: 0.1012 - val_loss: 0.0978\n",
      "Epoch 9/10\n",
      "235/235 [==============================] - 2s 8ms/step - loss: 0.0985 - val_loss: 0.0960\n",
      "Epoch 10/10\n",
      "235/235 [==============================] - 2s 8ms/step - loss: 0.0970 - val_loss: 0.0948\n"
     ]
    },
    {
     "data": {
      "text/plain": [
       "<tensorflow.python.keras.callbacks.History at 0x7fe08c490a90>"
      ]
     },
     "execution_count": 7,
     "metadata": {},
     "output_type": "execute_result"
    }
   ],
   "source": [
    "autoencoder.fit(x_train, x_train,\n",
    "                epochs=10,\n",
    "                batch_size=256,\n",
    "                shuffle=True,\n",
    "                validation_data=(x_test, x_test))"
   ]
  },
  {
   "cell_type": "code",
   "execution_count": 8,
   "id": "2362618b",
   "metadata": {
    "execution": {
     "iopub.execute_input": "2021-07-15T19:29:02.446744Z",
     "iopub.status.busy": "2021-07-15T19:29:02.446021Z",
     "iopub.status.idle": "2021-07-15T19:29:06.181731Z",
     "shell.execute_reply": "2021-07-15T19:29:06.180711Z",
     "shell.execute_reply.started": "2021-07-15T19:26:08.131493Z"
    },
    "papermill": {
     "duration": 4.022952,
     "end_time": "2021-07-15T19:29:06.181896",
     "exception": false,
     "start_time": "2021-07-15T19:29:02.158944",
     "status": "completed"
    },
    "tags": []
   },
   "outputs": [],
   "source": [
    "train_encoded_imgs = encoder.predict(x_train)\n",
    "test_encoded_imgs = encoder.predict(x_test)\n",
    "\n",
    "train_decoded_imgs = decoder.predict(train_encoded_imgs)\n",
    "test_decoded_imgs = decoder.predict(test_encoded_imgs)"
   ]
  },
  {
   "cell_type": "code",
   "execution_count": 9,
   "id": "8b4c4040",
   "metadata": {
    "execution": {
     "iopub.execute_input": "2021-07-15T19:29:06.421535Z",
     "iopub.status.busy": "2021-07-15T19:29:06.420238Z",
     "iopub.status.idle": "2021-07-15T19:29:07.468051Z",
     "shell.execute_reply": "2021-07-15T19:29:07.468586Z",
     "shell.execute_reply.started": "2021-07-15T19:26:11.790912Z"
    },
    "papermill": {
     "duration": 1.180069,
     "end_time": "2021-07-15T19:29:07.468767",
     "exception": false,
     "start_time": "2021-07-15T19:29:06.288698",
     "status": "completed"
    },
    "tags": []
   },
   "outputs": [
    {
     "data": {
      "image/png": "[encoded data removed]",
      "text/plain": [
       "<Figure size 1440x288 with 20 Axes>"
      ]
     },
     "metadata": {
      "needs_background": "light"
     },
     "output_type": "display_data"
    }
   ],
   "source": [
    "n = 10  # How many digits we will display\n",
    "plt.figure(figsize=(20, 4))\n",
    "for i in range(n):\n",
    "    # Display original\n",
    "    ax = plt.subplot(2, n, i + 1)\n",
    "    plt.imshow(x_test[i].reshape(28, 28))\n",
    "    plt.gray()\n",
    "    ax.get_xaxis().set_visible(False)\n",
    "    ax.get_yaxis().set_visible(False)\n",
    "\n",
    "    # Display reconstruction\n",
    "    ax = plt.subplot(2, n, i + 1 + n)\n",
    "    plt.imshow(test_decoded_imgs[i].reshape(28, 28))\n",
    "    plt.gray()\n",
    "    ax.get_xaxis().set_visible(False)\n",
    "    ax.get_yaxis().set_visible(False)\n",
    "plt.show()"
   ]
  },
  {
   "cell_type": "code",
   "execution_count": 10,
   "id": "23e0f897",
   "metadata": {
    "execution": {
     "iopub.execute_input": "2021-07-15T19:29:07.715406Z",
     "iopub.status.busy": "2021-07-15T19:29:07.714519Z",
     "iopub.status.idle": "2021-07-15T19:29:07.718964Z",
     "shell.execute_reply": "2021-07-15T19:29:07.718333Z",
     "shell.execute_reply.started": "2021-07-15T19:26:12.808426Z"
    },
    "papermill": {
     "duration": 0.141587,
     "end_time": "2021-07-15T19:29:07.719104",
     "exception": false,
     "start_time": "2021-07-15T19:29:07.577517",
     "status": "completed"
    },
    "tags": []
   },
   "outputs": [
    {
     "data": {
      "text/plain": [
       "((60000, 28, 28, 1), (10000, 28, 28, 1))"
      ]
     },
     "execution_count": 10,
     "metadata": {},
     "output_type": "execute_result"
    }
   ],
   "source": [
    "train_X = train_decoded_imgs[:].reshape(-1, 28,28, 1)\n",
    "test_X = test_decoded_imgs[:].reshape(-1, 28,28, 1)\n",
    "train_X.shape, test_X.shape"
   ]
  },
  {
   "cell_type": "code",
   "execution_count": 11,
   "id": "f1ef0a6b",
   "metadata": {
    "execution": {
     "iopub.execute_input": "2021-07-15T19:29:07.942893Z",
     "iopub.status.busy": "2021-07-15T19:29:07.941616Z",
     "iopub.status.idle": "2021-07-15T19:29:07.948847Z",
     "shell.execute_reply": "2021-07-15T19:29:07.949542Z",
     "shell.execute_reply.started": "2021-07-15T19:27:45.218572Z"
    },
    "papermill": {
     "duration": 0.121533,
     "end_time": "2021-07-15T19:29:07.949785",
     "exception": false,
     "start_time": "2021-07-15T19:29:07.828252",
     "status": "completed"
    },
    "tags": []
   },
   "outputs": [
    {
     "name": "stdout",
     "output_type": "stream",
     "text": [
      "Original label: 5\n",
      "After conversion to one-hot: [0. 0. 0. 0. 0. 1. 0. 0. 0. 0.]\n"
     ]
    }
   ],
   "source": [
    "train_Y_one_hot = to_categorical(train_y)\n",
    "test_Y_one_hot = to_categorical(test_y)\n",
    "\n",
    "print('Original label:', train_y[0])\n",
    "print('After conversion to one-hot:', train_Y_one_hot[0])"
   ]
  },
  {
   "cell_type": "code",
   "execution_count": null,
   "id": "4de1d511",
   "metadata": {
    "papermill": {
     "duration": 0.109977,
     "end_time": "2021-07-15T19:29:08.169736",
     "exception": false,
     "start_time": "2021-07-15T19:29:08.059759",
     "status": "completed"
    },
    "tags": []
   },
   "outputs": [],
   "source": []
  }
 ],
 "metadata": {
  "kernelspec": {
   "display_name": "Python 3",
   "language": "python",
   "name": "python3"
  },
  "language_info": {
   "codemirror_mode": {
    "name": "ipython",
    "version": 3
   },
   "file_extension": ".py",
   "mimetype": "text/x-python",
   "name": "python",
   "nbconvert_exporter": "python",
   "pygments_lexer": "ipython3",
   "version": "3.7.10"
  },
  "papermill": {
   "default_parameters": {},
   "duration": 44.902461,
   "end_time": "2021-07-15T19:29:10.091758",
   "environment_variables": {},
   "exception": null,
   "input_path": "__notebook__.ipynb",
   "output_path": "__notebook__.ipynb",
   "parameters": {},
   "start_time": "2021-07-15T19:28:25.189297",
   "version": "2.3.3"
  }
 },
 "nbformat": 4,
 "nbformat_minor": 5
}
